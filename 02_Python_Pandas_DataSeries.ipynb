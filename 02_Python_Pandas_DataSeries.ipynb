{
  "cells": [
    {
      "cell_type": "code",
      "execution_count": null,
      "metadata": {
        "id": "3AtgriAdm20R"
      },
      "outputs": [],
      "source": [
        "import numpy as np\n",
        "import pandas as pd\n",
        "import datetime"
      ]
    },
    {
      "cell_type": "markdown",
      "metadata": {
        "id": "VIwwUIOJm20X"
      },
      "source": [
        "## DataSeries"
      ]
    },
    {
      "cell_type": "code",
      "execution_count": null,
      "metadata": {
        "id": "-IpbhutZm20d"
      },
      "outputs": [],
      "source": [
        "my_readings = [3.12, 3.54, 3.24, 3.67, 3.56, 3.87]"
      ]
    },
    {
      "cell_type": "markdown",
      "metadata": {
        "id": "1TojONoCm20e"
      },
      "source": [
        "We can create a DataSeries using any list or np.array,"
      ]
    },
    {
      "cell_type": "code",
      "execution_count": null,
      "metadata": {
        "id": "MwtAeCLKm20f",
        "outputId": "be6eb840-ba35-468f-d3cb-3c0ac01a74f4",
        "colab": {
          "base_uri": "https://localhost:8080/"
        }
      },
      "outputs": [
        {
          "output_type": "execute_result",
          "data": {
            "text/plain": [
              "0    3.12\n",
              "1    3.54\n",
              "2    3.24\n",
              "3    3.67\n",
              "4    3.56\n",
              "5    3.87\n",
              "dtype: float64"
            ]
          },
          "metadata": {},
          "execution_count": 3
        }
      ],
      "source": [
        "ds_readings = pd.Series(my_readings)\n",
        "ds_readings"
      ]
    },
    {
      "cell_type": "code",
      "execution_count": null,
      "metadata": {
        "id": "V1O7lWQ9m20f"
      },
      "outputs": [],
      "source": []
    },
    {
      "cell_type": "code",
      "execution_count": null,
      "metadata": {
        "id": "XyJLsFrTm20g",
        "outputId": "dd554991-1d86-4cf5-c098-c68692c0fae1",
        "colab": {
          "base_uri": "https://localhost:8080/"
        }
      },
      "outputs": [
        {
          "output_type": "execute_result",
          "data": {
            "text/plain": [
              "RangeIndex(start=0, stop=6, step=1)"
            ]
          },
          "metadata": {},
          "execution_count": 4
        }
      ],
      "source": [
        "## Output Index\n",
        "ds_readings.index"
      ]
    },
    {
      "cell_type": "code",
      "execution_count": null,
      "metadata": {
        "id": "rwdlPw4Qm20g",
        "outputId": "ca5e081e-c99c-42b7-8bcc-f3db3438ea07",
        "colab": {
          "base_uri": "https://localhost:8080/"
        }
      },
      "outputs": [
        {
          "output_type": "execute_result",
          "data": {
            "text/plain": [
              "array([3.12, 3.54, 3.24, 3.67, 3.56, 3.87])"
            ]
          },
          "metadata": {},
          "execution_count": 5
        }
      ],
      "source": [
        "## Output Value\n",
        "ds_readings.values"
      ]
    },
    {
      "cell_type": "code",
      "execution_count": null,
      "metadata": {
        "id": "83MVXMtAm20g"
      },
      "outputs": [],
      "source": []
    },
    {
      "cell_type": "code",
      "execution_count": null,
      "metadata": {
        "id": "_xSV4tvWm20h",
        "outputId": "106dc90b-0802-42f0-8db6-d1bf8ab14370",
        "colab": {
          "base_uri": "https://localhost:8080/"
        }
      },
      "outputs": [
        {
          "output_type": "execute_result",
          "data": {
            "text/plain": [
              "3.12"
            ]
          },
          "metadata": {},
          "execution_count": 6
        }
      ],
      "source": [
        "ds_readings[0]"
      ]
    },
    {
      "cell_type": "code",
      "execution_count": null,
      "metadata": {
        "id": "LisiRGVjm20h",
        "outputId": "4e7ff058-796b-4ec8-ed78-e349099e809e",
        "colab": {
          "base_uri": "https://localhost:8080/"
        }
      },
      "outputs": [
        {
          "output_type": "execute_result",
          "data": {
            "text/plain": [
              "3.56"
            ]
          },
          "metadata": {},
          "execution_count": 7
        }
      ],
      "source": [
        "ds_readings[4]"
      ]
    },
    {
      "cell_type": "markdown",
      "metadata": {
        "id": "V6CSvXc1m20h"
      },
      "source": []
    },
    {
      "cell_type": "code",
      "execution_count": null,
      "metadata": {
        "id": "6I7gIOTym20i",
        "outputId": "d266d628-9d4d-4748-c28e-5a2f846399df",
        "colab": {
          "base_uri": "https://localhost:8080/"
        }
      },
      "outputs": [
        {
          "output_type": "execute_result",
          "data": {
            "text/plain": [
              "1    3.54\n",
              "2    3.24\n",
              "3    3.67\n",
              "dtype: float64"
            ]
          },
          "metadata": {},
          "execution_count": 8
        }
      ],
      "source": [
        "ds_readings[1:4]"
      ]
    },
    {
      "cell_type": "markdown",
      "metadata": {
        "id": "8Wq0yO96m20i"
      },
      "source": [
        "**Masking**"
      ]
    },
    {
      "cell_type": "code",
      "execution_count": null,
      "metadata": {
        "id": "LsbiUDAom20i",
        "outputId": "7716117d-3a1e-4544-9f76-233aaccdd700",
        "colab": {
          "base_uri": "https://localhost:8080/"
        }
      },
      "outputs": [
        {
          "output_type": "execute_result",
          "data": {
            "text/plain": [
              "0    3.12\n",
              "2    3.24\n",
              "dtype: float64"
            ]
          },
          "metadata": {},
          "execution_count": 9
        }
      ],
      "source": [
        "## Note list input\n",
        "ds_readings[[True, False, True, False, False, False]]"
      ]
    },
    {
      "cell_type": "markdown",
      "metadata": {
        "id": "owyPwrAwm20j"
      },
      "source": []
    },
    {
      "cell_type": "code",
      "execution_count": null,
      "metadata": {
        "id": "aavBlvUQm20j",
        "outputId": "aba32580-9209-47e6-b98e-b846d8869aed",
        "colab": {
          "base_uri": "https://localhost:8080/"
        }
      },
      "outputs": [
        {
          "output_type": "execute_result",
          "data": {
            "text/plain": [
              "0    13.12\n",
              "1    13.54\n",
              "2    13.24\n",
              "3    13.67\n",
              "4    13.56\n",
              "5    13.87\n",
              "dtype: float64"
            ]
          },
          "metadata": {},
          "execution_count": 10
        }
      ],
      "source": [
        "ds_readings + 10"
      ]
    },
    {
      "cell_type": "markdown",
      "metadata": {
        "id": "AEBnm-ECm20j"
      },
      "source": []
    },
    {
      "cell_type": "code",
      "execution_count": null,
      "metadata": {
        "id": "YQAC4wjqm20j",
        "outputId": "0b30e05c-4354-4371-d1b5-ad9776a332af",
        "colab": {
          "base_uri": "https://localhost:8080/"
        }
      },
      "outputs": [
        {
          "output_type": "execute_result",
          "data": {
            "text/plain": [
              "0    False\n",
              "1     True\n",
              "2    False\n",
              "3     True\n",
              "4     True\n",
              "5     True\n",
              "dtype: bool"
            ]
          },
          "metadata": {},
          "execution_count": 11
        }
      ],
      "source": [
        "ds_readings > 3.5"
      ]
    },
    {
      "cell_type": "markdown",
      "metadata": {
        "id": "nwWOD9J1m20k"
      },
      "source": [
        "### Q: Why might the above be useful?"
      ]
    },
    {
      "cell_type": "markdown",
      "metadata": {
        "id": "mD8PD6nDm20k"
      },
      "source": [
        "Output would be very useful when used as a mask for another series"
      ]
    },
    {
      "cell_type": "code",
      "execution_count": null,
      "metadata": {
        "id": "ca0E_Xiqm20k",
        "outputId": "4f4b9a5b-686a-41e9-b9e1-951e65fb7685",
        "colab": {
          "base_uri": "https://localhost:8080/"
        }
      },
      "outputs": [
        {
          "output_type": "execute_result",
          "data": {
            "text/plain": [
              "1    3.54\n",
              "3    3.67\n",
              "4    3.56\n",
              "5    3.87\n",
              "dtype: float64"
            ]
          },
          "metadata": {},
          "execution_count": 12
        }
      ],
      "source": [
        "ds_readings[ds_readings > 3.5]"
      ]
    },
    {
      "cell_type": "markdown",
      "metadata": {
        "id": "4suKC_Cym20l"
      },
      "source": [
        "We can always combine filtering and operators"
      ]
    },
    {
      "cell_type": "code",
      "execution_count": null,
      "metadata": {
        "id": "YaXrP6Tym20l",
        "outputId": "56339ee0-4e56-4178-c005-702330523215",
        "colab": {
          "base_uri": "https://localhost:8080/"
        }
      },
      "outputs": [
        {
          "output_type": "execute_result",
          "data": {
            "text/plain": [
              "1    7.08\n",
              "3    7.34\n",
              "4    7.12\n",
              "5    7.74\n",
              "dtype: float64"
            ]
          },
          "metadata": {},
          "execution_count": 13
        }
      ],
      "source": [
        "ds_readings[ds_readings > 3.5] * 2"
      ]
    },
    {
      "cell_type": "markdown",
      "metadata": {
        "id": "3VgNr0MPm20l"
      },
      "source": [
        "And to change the values, either all, or partial is easy,"
      ]
    },
    {
      "cell_type": "code",
      "execution_count": null,
      "metadata": {
        "id": "q52FDalSm20l"
      },
      "outputs": [],
      "source": [
        "ds_readings[ds_readings > 3.5] = 0"
      ]
    },
    {
      "cell_type": "code",
      "execution_count": null,
      "metadata": {
        "id": "ezXerHq8m20m",
        "outputId": "4eaf45c7-b2ec-4652-9a8c-9a7b8bd281d1",
        "colab": {
          "base_uri": "https://localhost:8080/"
        }
      },
      "outputs": [
        {
          "output_type": "execute_result",
          "data": {
            "text/plain": [
              "0    3.12\n",
              "1    0.00\n",
              "2    3.24\n",
              "3    0.00\n",
              "4    0.00\n",
              "5    0.00\n",
              "dtype: float64"
            ]
          },
          "metadata": {},
          "execution_count": 15
        }
      ],
      "source": [
        "ds_readings"
      ]
    },
    {
      "cell_type": "markdown",
      "metadata": {
        "id": "qmAcCHv3m20m"
      },
      "source": [
        "## Exercise\n",
        "   * ### Create a new Dataseries on a topic of your choosing(numeric, length = 8)\n",
        "   * ### Output the 2nd, last, and last two elements\n",
        "   * ### Subtract a number from all elements\n",
        "   * ### Generate and apply a mask\n",
        "   * ### Use the mask to set values to 0"
      ]
    },
    {
      "cell_type": "markdown",
      "metadata": {
        "id": "JpBloJK0m20n"
      },
      "source": [
        "### How do I modify index?"
      ]
    },
    {
      "cell_type": "code",
      "execution_count": null,
      "metadata": {
        "id": "ufrbmSBlm20n"
      },
      "outputs": [],
      "source": [
        "timings = [datetime.time(1, 3, increment) for increment in range(6)]"
      ]
    },
    {
      "cell_type": "code",
      "execution_count": null,
      "metadata": {
        "id": "79p0lJMRm20n",
        "outputId": "6673c967-fefb-4845-a53e-f0a21a3633f5",
        "colab": {
          "base_uri": "https://localhost:8080/"
        }
      },
      "outputs": [
        {
          "output_type": "execute_result",
          "data": {
            "text/plain": [
              "[datetime.time(1, 3),\n",
              " datetime.time(1, 3, 1),\n",
              " datetime.time(1, 3, 2),\n",
              " datetime.time(1, 3, 3),\n",
              " datetime.time(1, 3, 4),\n",
              " datetime.time(1, 3, 5)]"
            ]
          },
          "metadata": {},
          "execution_count": 17
        }
      ],
      "source": [
        "timings"
      ]
    },
    {
      "cell_type": "code",
      "execution_count": null,
      "metadata": {
        "id": "HQ8VITmCm20n"
      },
      "outputs": [],
      "source": [
        "ds_readings.index = timings"
      ]
    },
    {
      "cell_type": "code",
      "execution_count": null,
      "metadata": {
        "id": "wLj1egQ0m20o",
        "outputId": "826ee2e7-b34b-40f8-c40f-ce3e0fabf3f4",
        "colab": {
          "base_uri": "https://localhost:8080/"
        }
      },
      "outputs": [
        {
          "output_type": "execute_result",
          "data": {
            "text/plain": [
              "01:03:00    3.12\n",
              "01:03:01    0.00\n",
              "01:03:02    3.24\n",
              "01:03:03    0.00\n",
              "01:03:04    0.00\n",
              "01:03:05    0.00\n",
              "dtype: float64"
            ]
          },
          "metadata": {},
          "execution_count": 19
        }
      ],
      "source": [
        "ds_readings"
      ]
    },
    {
      "cell_type": "markdown",
      "metadata": {
        "id": "fn-ZELfsm20o"
      },
      "source": [
        "The `.value_counts` function finds all the unique values in the series and gives the number of ocurrences of the same number in the series,"
      ]
    },
    {
      "cell_type": "code",
      "execution_count": null,
      "metadata": {
        "id": "4YMriDKsm20o",
        "outputId": "e31eae2e-dac5-418e-efbe-e6706c234985",
        "colab": {
          "base_uri": "https://localhost:8080/"
        }
      },
      "outputs": [
        {
          "output_type": "execute_result",
          "data": {
            "text/plain": [
              "0.00    4\n",
              "3.12    1\n",
              "3.24    1\n",
              "dtype: int64"
            ]
          },
          "metadata": {},
          "execution_count": 20
        }
      ],
      "source": [
        "ds_readings.value_counts()"
      ]
    },
    {
      "cell_type": "markdown",
      "metadata": {
        "id": "ekqvt6h4m20o"
      },
      "source": [
        "we can also sort, ascending and descending"
      ]
    },
    {
      "cell_type": "code",
      "execution_count": null,
      "metadata": {
        "id": "eekCyruEm20o",
        "outputId": "e8423d52-80e9-48c9-d344-7d0523870433",
        "colab": {
          "base_uri": "https://localhost:8080/"
        }
      },
      "outputs": [
        {
          "output_type": "execute_result",
          "data": {
            "text/plain": [
              "01:03:01    0.00\n",
              "01:03:03    0.00\n",
              "01:03:04    0.00\n",
              "01:03:05    0.00\n",
              "01:03:00    3.12\n",
              "01:03:02    3.24\n",
              "dtype: float64"
            ]
          },
          "metadata": {},
          "execution_count": 21
        }
      ],
      "source": [
        "ds_readings.sort_values()"
      ]
    },
    {
      "cell_type": "code",
      "execution_count": null,
      "metadata": {
        "id": "BxBgeCj5m20p",
        "outputId": "189927a5-f4b9-4dbd-e155-22f5f09234f6",
        "colab": {
          "base_uri": "https://localhost:8080/"
        }
      },
      "outputs": [
        {
          "output_type": "execute_result",
          "data": {
            "text/plain": [
              "01:03:02    3.24\n",
              "01:03:00    3.12\n",
              "01:03:01    0.00\n",
              "01:03:03    0.00\n",
              "01:03:04    0.00\n",
              "01:03:05    0.00\n",
              "dtype: float64"
            ]
          },
          "metadata": {},
          "execution_count": 22
        }
      ],
      "source": [
        "ds_readings.sort_values(ascending = False)"
      ]
    },
    {
      "cell_type": "markdown",
      "metadata": {
        "id": "XpNSBz-9m20p"
      },
      "source": [
        "### np.nan"
      ]
    },
    {
      "cell_type": "markdown",
      "metadata": {
        "id": "5WfO3Otem20x"
      },
      "source": [
        "`np.nan` refers to a value that should be but do not exist. And pandas provides an easiy function to check emptiness"
      ]
    },
    {
      "cell_type": "markdown",
      "metadata": {
        "id": "XQLW_idam20x"
      },
      "source": [
        "We first add np.nan into the seies"
      ]
    },
    {
      "cell_type": "code",
      "execution_count": null,
      "metadata": {
        "id": "r0BK6TSGm20y"
      },
      "outputs": [],
      "source": [
        "ds_readings[datetime.time(0,3,6)] =  np.nan"
      ]
    },
    {
      "cell_type": "code",
      "execution_count": null,
      "metadata": {
        "id": "H64cHUGJm20y",
        "outputId": "f70fcaf2-cede-45b0-e171-75abaf26c806",
        "colab": {
          "base_uri": "https://localhost:8080/"
        }
      },
      "outputs": [
        {
          "output_type": "execute_result",
          "data": {
            "text/plain": [
              "01:03:00    3.12\n",
              "01:03:01    0.00\n",
              "01:03:02    3.24\n",
              "01:03:03    0.00\n",
              "01:03:04    0.00\n",
              "01:03:05    0.00\n",
              "00:03:06     NaN\n",
              "dtype: float64"
            ]
          },
          "metadata": {},
          "execution_count": 24
        }
      ],
      "source": [
        "ds_readings"
      ]
    },
    {
      "cell_type": "code",
      "execution_count": null,
      "metadata": {
        "id": "tsBR6n0vm20y"
      },
      "outputs": [],
      "source": [
        "ds_readings[datetime.time(0,3,7)] =  3.48"
      ]
    },
    {
      "cell_type": "code",
      "execution_count": null,
      "metadata": {
        "id": "NqWNY_kJm20y",
        "outputId": "fedd14eb-e753-4951-d9ec-d542d3a3f365",
        "colab": {
          "base_uri": "https://localhost:8080/"
        }
      },
      "outputs": [
        {
          "output_type": "execute_result",
          "data": {
            "text/plain": [
              "01:03:00    3.12\n",
              "01:03:01    0.00\n",
              "01:03:02    3.24\n",
              "01:03:03    0.00\n",
              "01:03:04    0.00\n",
              "01:03:05    0.00\n",
              "00:03:06     NaN\n",
              "00:03:07    3.48\n",
              "dtype: float64"
            ]
          },
          "metadata": {},
          "execution_count": 26
        }
      ],
      "source": [
        "ds_readings"
      ]
    },
    {
      "cell_type": "markdown",
      "metadata": {
        "id": "oXxW_JwIm20z"
      },
      "source": [
        "And pandas provides method for checking emptiness"
      ]
    },
    {
      "cell_type": "code",
      "execution_count": null,
      "metadata": {
        "id": "6qaQ4c-km20z",
        "outputId": "e1cf5bc2-6ec3-425d-8816-0a18d54a9433",
        "colab": {
          "base_uri": "https://localhost:8080/"
        }
      },
      "outputs": [
        {
          "output_type": "execute_result",
          "data": {
            "text/plain": [
              "01:03:00    False\n",
              "01:03:01    False\n",
              "01:03:02    False\n",
              "01:03:03    False\n",
              "01:03:04    False\n",
              "01:03:05    False\n",
              "00:03:06     True\n",
              "00:03:07    False\n",
              "dtype: bool"
            ]
          },
          "metadata": {},
          "execution_count": 27
        }
      ],
      "source": [
        "ds_readings.isna()"
      ]
    },
    {
      "cell_type": "code",
      "execution_count": null,
      "metadata": {
        "id": "A-SPu3ZYm20z",
        "outputId": "93c36896-97f5-406f-a852-d0735bf566fb",
        "colab": {
          "base_uri": "https://localhost:8080/"
        }
      },
      "outputs": [
        {
          "output_type": "execute_result",
          "data": {
            "text/plain": [
              "00:03:06   NaN\n",
              "dtype: float64"
            ]
          },
          "metadata": {},
          "execution_count": 28
        }
      ],
      "source": [
        "ds_readings[ds_readings.isna()]"
      ]
    },
    {
      "cell_type": "code",
      "execution_count": null,
      "metadata": {
        "id": "sbc1aeAPm20z"
      },
      "outputs": [],
      "source": [
        "result = ds_readings[ds_readings.isna()]"
      ]
    },
    {
      "cell_type": "code",
      "execution_count": null,
      "metadata": {
        "id": "ufeBgzEtm200",
        "outputId": "f2103424-ec81-4058-a154-fdaf93dbab0d",
        "colab": {
          "base_uri": "https://localhost:8080/"
        }
      },
      "outputs": [
        {
          "output_type": "execute_result",
          "data": {
            "text/plain": [
              "Index([00:03:06], dtype='object')"
            ]
          },
          "metadata": {},
          "execution_count": 30
        }
      ],
      "source": [
        "result.index"
      ]
    },
    {
      "cell_type": "markdown",
      "metadata": {
        "id": "IqKlIAS6m200"
      },
      "source": [
        "To remove items, use drop. You need to refer to the index value."
      ]
    },
    {
      "cell_type": "code",
      "execution_count": null,
      "metadata": {
        "id": "-trb07ntm200",
        "outputId": "75ef5ed5-0945-47ce-88c9-70f65f24be9d",
        "colab": {
          "base_uri": "https://localhost:8080/"
        }
      },
      "outputs": [
        {
          "output_type": "execute_result",
          "data": {
            "text/plain": [
              "01:03:00    3.12\n",
              "01:03:01    0.00\n",
              "01:03:02    3.24\n",
              "01:03:03    0.00\n",
              "01:03:04    0.00\n",
              "01:03:05    0.00\n",
              "00:03:07    3.48\n",
              "dtype: float64"
            ]
          },
          "metadata": {},
          "execution_count": 31
        }
      ],
      "source": [
        "ds_readings.drop(result.index)"
      ]
    },
    {
      "cell_type": "code",
      "execution_count": null,
      "metadata": {
        "id": "YrDor7Tjm200",
        "outputId": "4b9a4eb4-d16a-4590-a6b2-0e5a8e660d51",
        "colab": {
          "base_uri": "https://localhost:8080/"
        }
      },
      "outputs": [
        {
          "output_type": "execute_result",
          "data": {
            "text/plain": [
              "01:03:00    False\n",
              "01:03:01    False\n",
              "01:03:02    False\n",
              "01:03:03    False\n",
              "01:03:04    False\n",
              "01:03:05    False\n",
              "00:03:06     True\n",
              "00:03:07    False\n",
              "dtype: bool"
            ]
          },
          "metadata": {},
          "execution_count": 32
        }
      ],
      "source": [
        "ds_readings.isna()"
      ]
    },
    {
      "cell_type": "markdown",
      "metadata": {
        "id": "L-5-wvEvm201"
      },
      "source": [
        "There are reduction methods"
      ]
    },
    {
      "cell_type": "code",
      "execution_count": null,
      "metadata": {
        "id": "x9z_-g1zm202",
        "outputId": "5c998ace-d9f3-49e7-ce60-02a80c403f99",
        "colab": {
          "base_uri": "https://localhost:8080/"
        }
      },
      "outputs": [
        {
          "output_type": "execute_result",
          "data": {
            "text/plain": [
              "True"
            ]
          },
          "metadata": {},
          "execution_count": 33
        }
      ],
      "source": [
        "ds_readings.isna().any()"
      ]
    },
    {
      "cell_type": "code",
      "execution_count": null,
      "metadata": {
        "id": "OZkoGbOKm202",
        "outputId": "b1d09984-ee72-4e6b-cd80-1eb8339fb05b",
        "colab": {
          "base_uri": "https://localhost:8080/"
        }
      },
      "outputs": [
        {
          "output_type": "execute_result",
          "data": {
            "text/plain": [
              "False"
            ]
          },
          "metadata": {},
          "execution_count": 34
        }
      ],
      "source": [
        "ds_readings.isna().all()"
      ]
    },
    {
      "cell_type": "code",
      "execution_count": null,
      "metadata": {
        "id": "JFQgtrxom203",
        "outputId": "2f1e12dc-5a11-49c6-b404-8035ef39525f",
        "colab": {
          "base_uri": "https://localhost:8080/"
        }
      },
      "outputs": [
        {
          "output_type": "execute_result",
          "data": {
            "text/plain": [
              "1"
            ]
          },
          "metadata": {},
          "execution_count": 35
        }
      ],
      "source": [
        "ds_readings.isna().sum()"
      ]
    },
    {
      "cell_type": "code",
      "execution_count": null,
      "metadata": {
        "id": "_i2BWA_ym203",
        "outputId": "04134dff-8066-4303-a726-99a26ad87a9c",
        "colab": {
          "base_uri": "https://localhost:8080/"
        }
      },
      "outputs": [
        {
          "output_type": "execute_result",
          "data": {
            "text/plain": [
              "array([3.12, 0.  , 3.24,  nan, 3.48])"
            ]
          },
          "metadata": {},
          "execution_count": 36
        }
      ],
      "source": [
        "ds_readings.unique()"
      ]
    },
    {
      "cell_type": "markdown",
      "metadata": {
        "id": "OMaqy7qgm203"
      },
      "source": [
        "### Mappings"
      ]
    },
    {
      "cell_type": "code",
      "execution_count": null,
      "metadata": {
        "id": "mtXrymaYm203",
        "outputId": "db4ff701-9d7f-45a0-dc54-460f0bbd320d",
        "colab": {
          "base_uri": "https://localhost:8080/"
        }
      },
      "outputs": [
        {
          "output_type": "execute_result",
          "data": {
            "text/plain": [
              "01:03:00     3.12\n",
              "01:03:01    10.00\n",
              "01:03:02     3.24\n",
              "01:03:03    10.00\n",
              "01:03:04    10.00\n",
              "01:03:05    10.00\n",
              "00:03:06     0.00\n",
              "00:03:07     3.48\n",
              "dtype: float64"
            ]
          },
          "metadata": {},
          "execution_count": 37
        }
      ],
      "source": [
        "mapping = {0: 10.0, np.nan: 0.0}\n",
        "ds_readings.replace(mapping)"
      ]
    },
    {
      "cell_type": "code",
      "execution_count": null,
      "metadata": {
        "id": "f40b2vrfm204"
      },
      "outputs": [],
      "source": [
        "def myround(x):\n",
        "    return round(x, 1)"
      ]
    },
    {
      "cell_type": "code",
      "execution_count": null,
      "metadata": {
        "id": "GlhliRH4m204",
        "outputId": "4c4fe9bb-8cb6-4e20-bc60-8f5eb7324574",
        "colab": {
          "base_uri": "https://localhost:8080/"
        }
      },
      "outputs": [
        {
          "output_type": "execute_result",
          "data": {
            "text/plain": [
              "01:03:00    3.1\n",
              "01:03:01    0.0\n",
              "01:03:02    3.2\n",
              "01:03:03    0.0\n",
              "01:03:04    0.0\n",
              "01:03:05    0.0\n",
              "00:03:06    NaN\n",
              "00:03:07    3.5\n",
              "dtype: float64"
            ]
          },
          "metadata": {},
          "execution_count": 39
        }
      ],
      "source": [
        "ds_readings.map(myround)"
      ]
    },
    {
      "cell_type": "code",
      "execution_count": null,
      "metadata": {
        "id": "ChEaXBsZm204",
        "outputId": "71f67c31-8162-44a1-a3b6-93be50a5e9c2",
        "colab": {
          "base_uri": "https://localhost:8080/"
        }
      },
      "outputs": [
        {
          "output_type": "execute_result",
          "data": {
            "text/plain": [
              "01:03:00    3.1\n",
              "01:03:01    0.0\n",
              "01:03:02    3.2\n",
              "01:03:03    0.0\n",
              "01:03:04    0.0\n",
              "01:03:05    0.0\n",
              "00:03:06    NaN\n",
              "00:03:07    3.5\n",
              "dtype: float64"
            ]
          },
          "metadata": {},
          "execution_count": 40
        }
      ],
      "source": [
        "ds_readings.map(lambda x: round(x,1))"
      ]
    },
    {
      "cell_type": "markdown",
      "metadata": {
        "id": "TRnlKS8Sm204"
      },
      "source": [
        "## Exercise\n",
        "   * ### Change the index of the list you created in the previous exercise so that it is indexed by time\n",
        "   * ### Insert several np.nan values\n",
        "   * ### remove these values using `.isna()` and `.drop()`\n",
        "   * ### Define a function which squares numbers given as input and apply it accross the list using `.map()`\n",
        "    "
      ]
    }
  ],
  "metadata": {
    "kernelspec": {
      "display_name": "Python 3",
      "language": "python",
      "name": "python3"
    },
    "language_info": {
      "codemirror_mode": {
        "name": "ipython",
        "version": 3
      },
      "file_extension": ".py",
      "mimetype": "text/x-python",
      "name": "python",
      "nbconvert_exporter": "python",
      "pygments_lexer": "ipython3",
      "version": "3.7.4"
    },
    "colab": {
      "provenance": []
    }
  },
  "nbformat": 4,
  "nbformat_minor": 0
}