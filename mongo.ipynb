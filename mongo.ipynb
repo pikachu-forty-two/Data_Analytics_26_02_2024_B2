{
  "nbformat": 4,
  "nbformat_minor": 0,
  "metadata": {
    "colab": {
      "provenance": []
    },
    "kernelspec": {
      "name": "python3",
      "display_name": "Python 3"
    },
    "language_info": {
      "name": "python"
    }
  },
  "cells": [
    {
      "cell_type": "code",
      "metadata": {
        "id": "m-w3CTBlmRqV"
      },
      "source": [
        "import pymongo"
      ],
      "execution_count": null,
      "outputs": []
    },
    {
      "cell_type": "code",
      "metadata": {
        "id": "n8Mvfvw8m6sQ"
      },
      "source": [
        "uri = \"mongodb://mosmoscosmos:2G1hQt1Nu4j6UEK50QKkHd5EsmbGLgjaep0GG4wmtrI1guPHGAdv9VQL3j8Wj4PajLIvIdx54jyezQLNXkHJCw==@mosmoscosmos.mongo.cosmos.azure.com:10255/?ssl=true&retrywrites=false&replicaSet=globaldb&maxIdleTimeMS=120000&appName=@mosmoscosmos@\"\n",
        "myclient = pymongo.MongoClient(uri)\n",
        "mydb = myclient[\"multiverse\"]"
      ],
      "execution_count": null,
      "outputs": []
    },
    {
      "cell_type": "code",
      "metadata": {
        "id": "dH3eqXpLnPX1"
      },
      "source": [],
      "execution_count": null,
      "outputs": []
    },
    {
      "cell_type": "code",
      "metadata": {
        "colab": {
          "base_uri": "https://localhost:8080/"
        },
        "id": "_tAXEhULnQCD",
        "outputId": "7f7c66bb-14e1-4b1b-e73d-d82c99f2e0aa"
      },
      "source": [
        "# db is NOT created till there is data\n",
        "\n",
        "dblist = myclient.list_database_names()\n",
        "if \"multiverse\" in dblist:\n",
        "  print(\"The database exists.\")\n",
        "else:\n",
        "  print(\"DB absent\")"
      ],
      "execution_count": null,
      "outputs": [
        {
          "output_type": "stream",
          "text": [
            "DB absent\n"
          ],
          "name": "stdout"
        }
      ]
    },
    {
      "cell_type": "code",
      "metadata": {
        "colab": {
          "base_uri": "https://localhost:8080/"
        },
        "id": "kSxbSRDsnYH0",
        "outputId": "a3562cc8-7720-4e50-90b4-ad52618a1742"
      },
      "source": [
        "print(myclient.list_database_names())\n",
        "# multiverse not present in db name list yet!"
      ],
      "execution_count": null,
      "outputs": [
        {
          "output_type": "stream",
          "text": [
            "['universe']\n"
          ],
          "name": "stdout"
        }
      ]
    },
    {
      "cell_type": "code",
      "metadata": {
        "id": "SbWupUTRopA8"
      },
      "source": [
        "# collection is created like this, but will not show up till there is data\n",
        "myplanet = mydb['earth']\n",
        "# again-> because there is no data, no database or no collection is created"
      ],
      "execution_count": null,
      "outputs": []
    },
    {
      "cell_type": "code",
      "metadata": {
        "colab": {
          "base_uri": "https://localhost:8080/"
        },
        "id": "vO7JpbEQo40E",
        "outputId": "7f1e1f52-f7be-42a1-fbae-12651dbb2798"
      },
      "source": [
        "country1 = {\n",
        "    \"name\":\"Honolulu\",\n",
        "    \"population\": \"unknown\"\n",
        "}\n",
        "country2 = {\n",
        "    \"name\":\"Pikaland\",\n",
        "    \"capital\": \"Townsville\",\n",
        "    \"potatoLover\" : True\n",
        "}\n",
        "myplanet.insert_one(country1)\n"
      ],
      "execution_count": null,
      "outputs": [
        {
          "output_type": "execute_result",
          "data": {
            "text/plain": [
              "<pymongo.results.InsertOneResult at 0x7f3bb88b89b0>"
            ]
          },
          "metadata": {
            "tags": []
          },
          "execution_count": 37
        }
      ]
    },
    {
      "cell_type": "code",
      "metadata": {
        "colab": {
          "base_uri": "https://localhost:8080/"
        },
        "id": "mYBvyYdlpqjn",
        "outputId": "8214e1f8-c557-4e19-bf06-ea1be8f51a97"
      },
      "source": [
        "# inserting returns the ID of row that is inserted. For example,\n",
        "x = myplanet.insert_one(country2)\n",
        "x"
      ],
      "execution_count": null,
      "outputs": [
        {
          "output_type": "execute_result",
          "data": {
            "text/plain": [
              "<pymongo.results.InsertOneResult at 0x7f3bb887abe0>"
            ]
          },
          "metadata": {
            "tags": []
          },
          "execution_count": 38
        }
      ]
    },
    {
      "cell_type": "code",
      "metadata": {
        "colab": {
          "base_uri": "https://localhost:8080/"
        },
        "id": "1a_u4iuWqNLj",
        "outputId": "31024559-eba2-4093-e06f-beacf249f10e"
      },
      "source": [
        "#if you want to see all sections of an object, you can use dir() command\n",
        "print(dir(x))\n",
        "# from here, we an find inserted_id field (in the last)"
      ],
      "execution_count": null,
      "outputs": [
        {
          "output_type": "stream",
          "text": [
            "['_InsertOneResult__acknowledged', '_InsertOneResult__inserted_id', '_WriteResult__acknowledged', '__class__', '__delattr__', '__dir__', '__doc__', '__eq__', '__format__', '__ge__', '__getattribute__', '__gt__', '__hash__', '__init__', '__init_subclass__', '__le__', '__lt__', '__module__', '__ne__', '__new__', '__reduce__', '__reduce_ex__', '__repr__', '__setattr__', '__sizeof__', '__slots__', '__str__', '__subclasshook__', '_raise_if_unacknowledged', 'acknowledged', 'inserted_id']\n"
          ],
          "name": "stdout"
        }
      ]
    },
    {
      "cell_type": "code",
      "metadata": {
        "colab": {
          "base_uri": "https://localhost:8080/"
        },
        "id": "WPnLvtjnqW-8",
        "outputId": "0f5b5124-4f64-4f94-c5b9-b8381a585065"
      },
      "source": [
        "x.inserted_id\n",
        "# this is an OBJECT ID and makes mongo db search very fast"
      ],
      "execution_count": null,
      "outputs": [
        {
          "output_type": "execute_result",
          "data": {
            "text/plain": [
              "ObjectId('60cd8505b92a1f0bdc7b680e')"
            ]
          },
          "metadata": {
            "tags": []
          },
          "execution_count": 40
        }
      ]
    },
    {
      "cell_type": "code",
      "metadata": {
        "id": "c-p0AHTPqhrr"
      },
      "source": [
        "# we could have inserted multiple records in one go too\n",
        "countries = [{\n",
        "    \"name\":\"Tonalulu\",\n",
        "    \"population\": 100,\n",
        "    \"currency\" : \"dollar\"\n",
        "},{\n",
        "    \"name\":\"Gagacity\",\n",
        "    \"area\": 1000,\n",
        "    \"potatoLover\" : True\n",
        "}]\n",
        "x = myplanet.insert_many(countries)"
      ],
      "execution_count": null,
      "outputs": []
    },
    {
      "cell_type": "code",
      "metadata": {
        "colab": {
          "base_uri": "https://localhost:8080/"
        },
        "id": "mZ8sPlhRrYwA",
        "outputId": "808dc62d-773d-4852-adfe-daabc9115ac6"
      },
      "source": [
        "x.inserted_ids"
      ],
      "execution_count": null,
      "outputs": [
        {
          "output_type": "execute_result",
          "data": {
            "text/plain": [
              "[ObjectId('60cd8509b92a1f0bdc7b680f'), ObjectId('60cd8509b92a1f0bdc7b6810')]"
            ]
          },
          "metadata": {
            "tags": []
          },
          "execution_count": 42
        }
      ]
    },
    {
      "cell_type": "code",
      "metadata": {
        "id": "n12N3GbkrlGO"
      },
      "source": [
        "# get first record\n",
        "x = myplanet.find_one()"
      ],
      "execution_count": null,
      "outputs": []
    },
    {
      "cell_type": "code",
      "metadata": {
        "colab": {
          "base_uri": "https://localhost:8080/"
        },
        "id": "EBkmu3ZQrozq",
        "outputId": "07c7656c-15ba-42ce-a64e-cdc7d4790053"
      },
      "source": [
        "# X is now a POINTER or a CURSOR pointing to the collection\n",
        "x"
      ],
      "execution_count": null,
      "outputs": [
        {
          "output_type": "execute_result",
          "data": {
            "text/plain": [
              "{'_id': ObjectId('60cd8504b92a1f0bdc7b680d'),\n",
              " 'name': 'Honolulu',\n",
              " 'population': 'unknown'}"
            ]
          },
          "metadata": {
            "tags": []
          },
          "execution_count": 44
        }
      ]
    },
    {
      "cell_type": "code",
      "metadata": {
        "colab": {
          "base_uri": "https://localhost:8080/"
        },
        "id": "LWd_BECdsBfu",
        "outputId": "da241794-9da9-499a-e284-29bab9c1c6ab"
      },
      "source": [
        "x = myplanet.find_one()\n",
        "x"
      ],
      "execution_count": null,
      "outputs": [
        {
          "output_type": "execute_result",
          "data": {
            "text/plain": [
              "{'_id': ObjectId('60cd8504b92a1f0bdc7b680d'),\n",
              " 'name': 'Honolulu',\n",
              " 'population': 'unknown'}"
            ]
          },
          "metadata": {
            "tags": []
          },
          "execution_count": 45
        }
      ]
    },
    {
      "cell_type": "code",
      "metadata": {
        "colab": {
          "base_uri": "https://localhost:8080/"
        },
        "id": "6SdnSW6LsQk_",
        "outputId": "f2b5a16a-c0b1-4192-9803-8d017b143c61"
      },
      "source": [
        "# to print all records\n",
        "for x in myplanet.find():\n",
        "  print(x)"
      ],
      "execution_count": null,
      "outputs": [
        {
          "output_type": "stream",
          "text": [
            "{'_id': ObjectId('60cd8504b92a1f0bdc7b680d'), 'name': 'Honolulu', 'population': 'unknown'}\n",
            "{'_id': ObjectId('60cd8505b92a1f0bdc7b680e'), 'name': 'Pikaland', 'capital': 'Townsville', 'potatoLover': True}\n",
            "{'_id': ObjectId('60cd8509b92a1f0bdc7b680f'), 'name': 'Tonalulu', 'population': 100, 'currency': 'dollar'}\n",
            "{'_id': ObjectId('60cd8509b92a1f0bdc7b6810'), 'name': 'Gagacity', 'area': 1000, 'potatoLover': True}\n"
          ],
          "name": "stdout"
        }
      ]
    },
    {
      "cell_type": "code",
      "metadata": {
        "colab": {
          "base_uri": "https://localhost:8080/"
        },
        "id": "d19o83WGsbZZ",
        "outputId": "8144e2dc-ed28-4977-d4a1-d33bbeeca257"
      },
      "source": [
        "# we can choose not to filter certain fields, like _id\n",
        "for x in myplanet.find({},{ \"_id\": 0}):\n",
        "  print(x)\n"
      ],
      "execution_count": null,
      "outputs": [
        {
          "output_type": "stream",
          "text": [
            "{'name': 'Honolulu', 'population': 'unknown'}\n",
            "{'name': 'Pikaland', 'capital': 'Townsville', 'potatoLover': True}\n",
            "{'name': 'Tonalulu', 'population': 100, 'currency': 'dollar'}\n",
            "{'name': 'Gagacity', 'area': 1000, 'potatoLover': True}\n"
          ],
          "name": "stdout"
        }
      ]
    },
    {
      "cell_type": "code",
      "metadata": {
        "colab": {
          "base_uri": "https://localhost:8080/"
        },
        "id": "bEmtdiWHs8SZ",
        "outputId": "c1feba56-2406-4037-9000-d0a3cb5a0558"
      },
      "source": [
        "# or we can select certain fields too\n",
        "for x in myplanet.find({},{ \"_id\": 0,\"name\":1,\"potatoLover\": 1}):\n",
        "  print(x)"
      ],
      "execution_count": null,
      "outputs": [
        {
          "output_type": "stream",
          "text": [
            "{'name': 'Honolulu'}\n",
            "{'name': 'Pikaland', 'potatoLover': True}\n",
            "{'name': 'Tonalulu'}\n",
            "{'name': 'Gagacity', 'potatoLover': True}\n"
          ],
          "name": "stdout"
        }
      ]
    },
    {
      "cell_type": "code",
      "metadata": {
        "colab": {
          "base_uri": "https://localhost:8080/"
        },
        "id": "BvD_m2fwtKQG",
        "outputId": "e8d5c95c-5457-427e-8f97-a15288a44b40"
      },
      "source": [
        "# BUT ONE limitation- we cannot create combination of 0 and 1 filters in the same object, except for _id field\n",
        "# what does this mean?\n",
        "# EIther provide the list of what to show, or provide a list of what not to show- DO NOT MIX THEM UP\n",
        "# this will work\n",
        "for x in myplanet.find({},{ \"_id\": 0,\"name\":1,\"population\": 1}):\n",
        "  print(x)"
      ],
      "execution_count": null,
      "outputs": [
        {
          "output_type": "stream",
          "text": [
            "{'name': 'Honolulu', 'population': 'unknown'}\n",
            "{'name': 'Pikaland'}\n",
            "{'name': 'Tonalulu', 'population': 100}\n",
            "{'name': 'Gagacity'}\n"
          ],
          "name": "stdout"
        }
      ]
    },
    {
      "cell_type": "code",
      "metadata": {
        "colab": {
          "base_uri": "https://localhost:8080/",
          "height": 415
        },
        "id": "lZgtSAQdtec-",
        "outputId": "7ad30200-10cf-440d-b3a0-1f33ce815162"
      },
      "source": [
        "# this will not work\n",
        "for x in myplanet.find({},{ \"_id\": 0,\"name\":1,\"population\": 0}):\n",
        "  print(x)\n",
        "\n",
        "  # this is called a PROJECTION- and it cannot include both inclusion and exclusion rule"
      ],
      "execution_count": null,
      "outputs": [
        {
          "output_type": "error",
          "ename": "OperationFailure",
          "evalue": "ignored",
          "traceback": [
            "\u001b[0;31m---------------------------------------------------------------------------\u001b[0m",
            "\u001b[0;31mOperationFailure\u001b[0m                          Traceback (most recent call last)",
            "\u001b[0;32m<ipython-input-19-857959d5280c>\u001b[0m in \u001b[0;36m<module>\u001b[0;34m()\u001b[0m\n\u001b[1;32m      1\u001b[0m \u001b[0;31m# this will not work\u001b[0m\u001b[0;34m\u001b[0m\u001b[0;34m\u001b[0m\u001b[0;34m\u001b[0m\u001b[0m\n\u001b[0;32m----> 2\u001b[0;31m \u001b[0;32mfor\u001b[0m \u001b[0mx\u001b[0m \u001b[0;32min\u001b[0m \u001b[0mmyplanet\u001b[0m\u001b[0;34m.\u001b[0m\u001b[0mfind\u001b[0m\u001b[0;34m(\u001b[0m\u001b[0;34m{\u001b[0m\u001b[0;34m}\u001b[0m\u001b[0;34m,\u001b[0m\u001b[0;34m{\u001b[0m \u001b[0;34m\"_id\"\u001b[0m\u001b[0;34m:\u001b[0m \u001b[0;36m0\u001b[0m\u001b[0;34m,\u001b[0m\u001b[0;34m\"name\"\u001b[0m\u001b[0;34m:\u001b[0m\u001b[0;36m1\u001b[0m\u001b[0;34m,\u001b[0m\u001b[0;34m\"population\"\u001b[0m\u001b[0;34m:\u001b[0m \u001b[0;36m0\u001b[0m\u001b[0;34m}\u001b[0m\u001b[0;34m)\u001b[0m\u001b[0;34m:\u001b[0m\u001b[0;34m\u001b[0m\u001b[0;34m\u001b[0m\u001b[0m\n\u001b[0m\u001b[1;32m      3\u001b[0m   \u001b[0mprint\u001b[0m\u001b[0;34m(\u001b[0m\u001b[0mx\u001b[0m\u001b[0;34m)\u001b[0m\u001b[0;34m\u001b[0m\u001b[0;34m\u001b[0m\u001b[0m\n\u001b[1;32m      4\u001b[0m \u001b[0;34m\u001b[0m\u001b[0m\n\u001b[1;32m      5\u001b[0m   \u001b[0;31m# this is called a PROJECTION- and it cannot include both inclusion and exclusion rule\u001b[0m\u001b[0;34m\u001b[0m\u001b[0;34m\u001b[0m\u001b[0;34m\u001b[0m\u001b[0m\n",
            "\u001b[0;32m/usr/local/lib/python3.7/dist-packages/pymongo/cursor.py\u001b[0m in \u001b[0;36mnext\u001b[0;34m(self)\u001b[0m\n\u001b[1;32m   1205\u001b[0m         \u001b[0;32mif\u001b[0m \u001b[0mself\u001b[0m\u001b[0;34m.\u001b[0m\u001b[0m__empty\u001b[0m\u001b[0;34m:\u001b[0m\u001b[0;34m\u001b[0m\u001b[0;34m\u001b[0m\u001b[0m\n\u001b[1;32m   1206\u001b[0m             \u001b[0;32mraise\u001b[0m \u001b[0mStopIteration\u001b[0m\u001b[0;34m\u001b[0m\u001b[0;34m\u001b[0m\u001b[0m\n\u001b[0;32m-> 1207\u001b[0;31m         \u001b[0;32mif\u001b[0m \u001b[0mlen\u001b[0m\u001b[0;34m(\u001b[0m\u001b[0mself\u001b[0m\u001b[0;34m.\u001b[0m\u001b[0m__data\u001b[0m\u001b[0;34m)\u001b[0m \u001b[0;32mor\u001b[0m \u001b[0mself\u001b[0m\u001b[0;34m.\u001b[0m\u001b[0m_refresh\u001b[0m\u001b[0;34m(\u001b[0m\u001b[0;34m)\u001b[0m\u001b[0;34m:\u001b[0m\u001b[0;34m\u001b[0m\u001b[0;34m\u001b[0m\u001b[0m\n\u001b[0m\u001b[1;32m   1208\u001b[0m             \u001b[0;32mif\u001b[0m \u001b[0mself\u001b[0m\u001b[0;34m.\u001b[0m\u001b[0m__manipulate\u001b[0m\u001b[0;34m:\u001b[0m\u001b[0;34m\u001b[0m\u001b[0;34m\u001b[0m\u001b[0m\n\u001b[1;32m   1209\u001b[0m                 \u001b[0m_db\u001b[0m \u001b[0;34m=\u001b[0m \u001b[0mself\u001b[0m\u001b[0;34m.\u001b[0m\u001b[0m__collection\u001b[0m\u001b[0;34m.\u001b[0m\u001b[0mdatabase\u001b[0m\u001b[0;34m\u001b[0m\u001b[0;34m\u001b[0m\u001b[0m\n",
            "\u001b[0;32m/usr/local/lib/python3.7/dist-packages/pymongo/cursor.py\u001b[0m in \u001b[0;36m_refresh\u001b[0;34m(self)\u001b[0m\n\u001b[1;32m   1122\u001b[0m                                   \u001b[0mself\u001b[0m\u001b[0;34m.\u001b[0m\u001b[0m__collection\u001b[0m\u001b[0;34m.\u001b[0m\u001b[0mdatabase\u001b[0m\u001b[0;34m.\u001b[0m\u001b[0mclient\u001b[0m\u001b[0;34m,\u001b[0m\u001b[0;34m\u001b[0m\u001b[0;34m\u001b[0m\u001b[0m\n\u001b[1;32m   1123\u001b[0m                                   self.__allow_disk_use)\n\u001b[0;32m-> 1124\u001b[0;31m             \u001b[0mself\u001b[0m\u001b[0;34m.\u001b[0m\u001b[0m__send_message\u001b[0m\u001b[0;34m(\u001b[0m\u001b[0mq\u001b[0m\u001b[0;34m)\u001b[0m\u001b[0;34m\u001b[0m\u001b[0;34m\u001b[0m\u001b[0m\n\u001b[0m\u001b[1;32m   1125\u001b[0m         \u001b[0;32melif\u001b[0m \u001b[0mself\u001b[0m\u001b[0;34m.\u001b[0m\u001b[0m__id\u001b[0m\u001b[0;34m:\u001b[0m  \u001b[0;31m# Get More\u001b[0m\u001b[0;34m\u001b[0m\u001b[0;34m\u001b[0m\u001b[0m\n\u001b[1;32m   1126\u001b[0m             \u001b[0;32mif\u001b[0m \u001b[0mself\u001b[0m\u001b[0;34m.\u001b[0m\u001b[0m__limit\u001b[0m\u001b[0;34m:\u001b[0m\u001b[0;34m\u001b[0m\u001b[0;34m\u001b[0m\u001b[0m\n",
            "\u001b[0;32m/usr/local/lib/python3.7/dist-packages/pymongo/cursor.py\u001b[0m in \u001b[0;36m__send_message\u001b[0;34m(self, operation)\u001b[0m\n\u001b[1;32m    999\u001b[0m             response = client._run_operation_with_response(\n\u001b[1;32m   1000\u001b[0m                 \u001b[0moperation\u001b[0m\u001b[0;34m,\u001b[0m \u001b[0mself\u001b[0m\u001b[0;34m.\u001b[0m\u001b[0m_unpack_response\u001b[0m\u001b[0;34m,\u001b[0m \u001b[0mexhaust\u001b[0m\u001b[0;34m=\u001b[0m\u001b[0mself\u001b[0m\u001b[0;34m.\u001b[0m\u001b[0m__exhaust\u001b[0m\u001b[0;34m,\u001b[0m\u001b[0;34m\u001b[0m\u001b[0;34m\u001b[0m\u001b[0m\n\u001b[0;32m-> 1001\u001b[0;31m                 address=self.__address)\n\u001b[0m\u001b[1;32m   1002\u001b[0m         \u001b[0;32mexcept\u001b[0m \u001b[0mOperationFailure\u001b[0m\u001b[0;34m:\u001b[0m\u001b[0;34m\u001b[0m\u001b[0;34m\u001b[0m\u001b[0m\n\u001b[1;32m   1003\u001b[0m             \u001b[0mself\u001b[0m\u001b[0;34m.\u001b[0m\u001b[0m__killed\u001b[0m \u001b[0;34m=\u001b[0m \u001b[0;32mTrue\u001b[0m\u001b[0;34m\u001b[0m\u001b[0;34m\u001b[0m\u001b[0m\n",
            "\u001b[0;32m/usr/local/lib/python3.7/dist-packages/pymongo/mongo_client.py\u001b[0m in \u001b[0;36m_run_operation_with_response\u001b[0;34m(self, operation, unpack_res, exhaust, address)\u001b[0m\n\u001b[1;32m   1370\u001b[0m             \u001b[0maddress\u001b[0m\u001b[0;34m=\u001b[0m\u001b[0maddress\u001b[0m\u001b[0;34m,\u001b[0m\u001b[0;34m\u001b[0m\u001b[0;34m\u001b[0m\u001b[0m\n\u001b[1;32m   1371\u001b[0m             \u001b[0mretryable\u001b[0m\u001b[0;34m=\u001b[0m\u001b[0misinstance\u001b[0m\u001b[0;34m(\u001b[0m\u001b[0moperation\u001b[0m\u001b[0;34m,\u001b[0m \u001b[0mmessage\u001b[0m\u001b[0;34m.\u001b[0m\u001b[0m_Query\u001b[0m\u001b[0;34m)\u001b[0m\u001b[0;34m,\u001b[0m\u001b[0;34m\u001b[0m\u001b[0;34m\u001b[0m\u001b[0m\n\u001b[0;32m-> 1372\u001b[0;31m             exhaust=exhaust)\n\u001b[0m\u001b[1;32m   1373\u001b[0m \u001b[0;34m\u001b[0m\u001b[0m\n\u001b[1;32m   1374\u001b[0m     \u001b[0;32mdef\u001b[0m \u001b[0m_retry_with_session\u001b[0m\u001b[0;34m(\u001b[0m\u001b[0mself\u001b[0m\u001b[0;34m,\u001b[0m \u001b[0mretryable\u001b[0m\u001b[0;34m,\u001b[0m \u001b[0mfunc\u001b[0m\u001b[0;34m,\u001b[0m \u001b[0msession\u001b[0m\u001b[0;34m,\u001b[0m \u001b[0mbulk\u001b[0m\u001b[0;34m)\u001b[0m\u001b[0;34m:\u001b[0m\u001b[0;34m\u001b[0m\u001b[0;34m\u001b[0m\u001b[0m\n",
            "\u001b[0;32m/usr/local/lib/python3.7/dist-packages/pymongo/mongo_client.py\u001b[0m in \u001b[0;36m_retryable_read\u001b[0;34m(self, func, read_pref, session, address, retryable, exhaust)\u001b[0m\n\u001b[1;32m   1469\u001b[0m                         \u001b[0;31m# not support retryable reads, raise the last error.\u001b[0m\u001b[0;34m\u001b[0m\u001b[0;34m\u001b[0m\u001b[0;34m\u001b[0m\u001b[0m\n\u001b[1;32m   1470\u001b[0m                         \u001b[0;32mraise\u001b[0m \u001b[0mlast_error\u001b[0m\u001b[0;34m\u001b[0m\u001b[0;34m\u001b[0m\u001b[0m\n\u001b[0;32m-> 1471\u001b[0;31m                     \u001b[0;32mreturn\u001b[0m \u001b[0mfunc\u001b[0m\u001b[0;34m(\u001b[0m\u001b[0msession\u001b[0m\u001b[0;34m,\u001b[0m \u001b[0mserver\u001b[0m\u001b[0;34m,\u001b[0m \u001b[0msock_info\u001b[0m\u001b[0;34m,\u001b[0m \u001b[0mslave_ok\u001b[0m\u001b[0;34m)\u001b[0m\u001b[0;34m\u001b[0m\u001b[0;34m\u001b[0m\u001b[0m\n\u001b[0m\u001b[1;32m   1472\u001b[0m             \u001b[0;32mexcept\u001b[0m \u001b[0mServerSelectionTimeoutError\u001b[0m\u001b[0;34m:\u001b[0m\u001b[0;34m\u001b[0m\u001b[0;34m\u001b[0m\u001b[0m\n\u001b[1;32m   1473\u001b[0m                 \u001b[0;32mif\u001b[0m \u001b[0mretrying\u001b[0m\u001b[0;34m:\u001b[0m\u001b[0;34m\u001b[0m\u001b[0;34m\u001b[0m\u001b[0m\n",
            "\u001b[0;32m/usr/local/lib/python3.7/dist-packages/pymongo/mongo_client.py\u001b[0m in \u001b[0;36m_cmd\u001b[0;34m(session, server, sock_info, slave_ok)\u001b[0m\n\u001b[1;32m   1364\u001b[0m                 \u001b[0mself\u001b[0m\u001b[0;34m.\u001b[0m\u001b[0m_event_listeners\u001b[0m\u001b[0;34m,\u001b[0m\u001b[0;34m\u001b[0m\u001b[0;34m\u001b[0m\u001b[0m\n\u001b[1;32m   1365\u001b[0m                 \u001b[0mexhaust\u001b[0m\u001b[0;34m,\u001b[0m\u001b[0;34m\u001b[0m\u001b[0;34m\u001b[0m\u001b[0m\n\u001b[0;32m-> 1366\u001b[0;31m                 unpack_res)\n\u001b[0m\u001b[1;32m   1367\u001b[0m \u001b[0;34m\u001b[0m\u001b[0m\n\u001b[1;32m   1368\u001b[0m         return self._retryable_read(\n",
            "\u001b[0;32m/usr/local/lib/python3.7/dist-packages/pymongo/server.py\u001b[0m in \u001b[0;36mrun_operation_with_response\u001b[0;34m(self, sock_info, operation, set_slave_okay, listeners, exhaust, unpack_res)\u001b[0m\n\u001b[1;32m    133\u001b[0m                 \u001b[0mfirst\u001b[0m \u001b[0;34m=\u001b[0m \u001b[0mdocs\u001b[0m\u001b[0;34m[\u001b[0m\u001b[0;36m0\u001b[0m\u001b[0;34m]\u001b[0m\u001b[0;34m\u001b[0m\u001b[0;34m\u001b[0m\u001b[0m\n\u001b[1;32m    134\u001b[0m                 \u001b[0moperation\u001b[0m\u001b[0;34m.\u001b[0m\u001b[0mclient\u001b[0m\u001b[0;34m.\u001b[0m\u001b[0m_process_response\u001b[0m\u001b[0;34m(\u001b[0m\u001b[0mfirst\u001b[0m\u001b[0;34m,\u001b[0m \u001b[0moperation\u001b[0m\u001b[0;34m.\u001b[0m\u001b[0msession\u001b[0m\u001b[0;34m)\u001b[0m\u001b[0;34m\u001b[0m\u001b[0;34m\u001b[0m\u001b[0m\n\u001b[0;32m--> 135\u001b[0;31m                 \u001b[0m_check_command_response\u001b[0m\u001b[0;34m(\u001b[0m\u001b[0mfirst\u001b[0m\u001b[0;34m,\u001b[0m \u001b[0msock_info\u001b[0m\u001b[0;34m.\u001b[0m\u001b[0mmax_wire_version\u001b[0m\u001b[0;34m)\u001b[0m\u001b[0;34m\u001b[0m\u001b[0;34m\u001b[0m\u001b[0m\n\u001b[0m\u001b[1;32m    136\u001b[0m         \u001b[0;32mexcept\u001b[0m \u001b[0mException\u001b[0m \u001b[0;32mas\u001b[0m \u001b[0mexc\u001b[0m\u001b[0;34m:\u001b[0m\u001b[0;34m\u001b[0m\u001b[0;34m\u001b[0m\u001b[0m\n\u001b[1;32m    137\u001b[0m             \u001b[0;32mif\u001b[0m \u001b[0mpublish\u001b[0m\u001b[0;34m:\u001b[0m\u001b[0;34m\u001b[0m\u001b[0;34m\u001b[0m\u001b[0m\n",
            "\u001b[0;32m/usr/local/lib/python3.7/dist-packages/pymongo/helpers.py\u001b[0m in \u001b[0;36m_check_command_response\u001b[0;34m(response, max_wire_version, allowable_errors, parse_write_concern_error)\u001b[0m\n\u001b[1;32m    162\u001b[0m         \u001b[0;32mraise\u001b[0m \u001b[0mCursorNotFound\u001b[0m\u001b[0;34m(\u001b[0m\u001b[0merrmsg\u001b[0m\u001b[0;34m,\u001b[0m \u001b[0mcode\u001b[0m\u001b[0;34m,\u001b[0m \u001b[0mresponse\u001b[0m\u001b[0;34m,\u001b[0m \u001b[0mmax_wire_version\u001b[0m\u001b[0;34m)\u001b[0m\u001b[0;34m\u001b[0m\u001b[0;34m\u001b[0m\u001b[0m\n\u001b[1;32m    163\u001b[0m \u001b[0;34m\u001b[0m\u001b[0m\n\u001b[0;32m--> 164\u001b[0;31m     \u001b[0;32mraise\u001b[0m \u001b[0mOperationFailure\u001b[0m\u001b[0;34m(\u001b[0m\u001b[0merrmsg\u001b[0m\u001b[0;34m,\u001b[0m \u001b[0mcode\u001b[0m\u001b[0;34m,\u001b[0m \u001b[0mresponse\u001b[0m\u001b[0;34m,\u001b[0m \u001b[0mmax_wire_version\u001b[0m\u001b[0;34m)\u001b[0m\u001b[0;34m\u001b[0m\u001b[0;34m\u001b[0m\u001b[0m\n\u001b[0m\u001b[1;32m    165\u001b[0m \u001b[0;34m\u001b[0m\u001b[0m\n\u001b[1;32m    166\u001b[0m \u001b[0;34m\u001b[0m\u001b[0m\n",
            "\u001b[0;31mOperationFailure\u001b[0m: Projection cannot have a mix of inclusion and exclusion, full error: {'ok': 0.0, 'errmsg': 'Projection cannot have a mix of inclusion and exclusion', 'code': 2, 'codeName': 'BadValue'}"
          ]
        }
      ]
    },
    {
      "cell_type": "code",
      "metadata": {
        "colab": {
          "base_uri": "https://localhost:8080/"
        },
        "id": "FJcrOQOht3UB",
        "outputId": "2a2f9c90-b55e-40bb-baec-47d1947992ac"
      },
      "source": [
        "# you can build exact search filters also\n",
        "search_doc = {'population': 'unknown'}\n",
        "for x in myplanet.find(search_doc):\n",
        "  print(x)"
      ],
      "execution_count": null,
      "outputs": [
        {
          "output_type": "stream",
          "text": [
            "{'_id': ObjectId('60cd8504b92a1f0bdc7b680d'), 'name': 'Honolulu', 'population': 'unknown'}\n"
          ],
          "name": "stdout"
        }
      ]
    },
    {
      "cell_type": "code",
      "metadata": {
        "colab": {
          "base_uri": "https://localhost:8080/"
        },
        "id": "7oVhomr4yoQM",
        "outputId": "539da75a-1b35-416e-ea84-34f59adf5fbb"
      },
      "source": [
        "# you can search less than, greater than, and other comparitive operations\n",
        "search_doc ={ \"population\": { \"$lt\": 1000 } }\n",
        "for x in myplanet.find(search_doc):\n",
        "  print(x)"
      ],
      "execution_count": null,
      "outputs": [
        {
          "output_type": "stream",
          "text": [
            "{'_id': ObjectId('60cd8509b92a1f0bdc7b680f'), 'name': 'Tonalulu', 'population': 100, 'currency': 'dollar'}\n"
          ],
          "name": "stdout"
        }
      ]
    },
    {
      "cell_type": "code",
      "metadata": {
        "colab": {
          "base_uri": "https://localhost:8080/"
        },
        "id": "JJyDtrqBvdZ7",
        "outputId": "8670b459-13e2-4965-e2ef-c8d9e39febbb"
      },
      "source": [
        "# greater than, less than of course works on numbers, but you can even use it on strings\n",
        "search_doc ={ \"name\": { \"$gt\": \"P\" } }\n",
        "for x in myplanet.find(search_doc):\n",
        "  print(x)"
      ],
      "execution_count": null,
      "outputs": [
        {
          "output_type": "stream",
          "text": [
            "{'_id': ObjectId('60cd8505b92a1f0bdc7b680e'), 'name': 'Pikaland', 'capital': 'Townsville', 'potatoLover': True}\n",
            "{'_id': ObjectId('60cd8509b92a1f0bdc7b680f'), 'name': 'Tonalulu', 'population': 100, 'currency': 'dollar'}\n"
          ],
          "name": "stdout"
        }
      ]
    },
    {
      "cell_type": "code",
      "metadata": {
        "colab": {
          "base_uri": "https://localhost:8080/"
        },
        "id": "TeMaMzWGv7dq",
        "outputId": "139ab975-9e1c-4040-d512-2eb4244870dc"
      },
      "source": [
        "#but strings are much better searched through regular expressions, rather than gt or lt\n",
        "# here is a regular expression to find all name values starting with T\n",
        "myquery = { \"name\": { \"$regex\": \"^T\" } }\n",
        "for x in myplanet.find(myquery):\n",
        "  print(x)"
      ],
      "execution_count": null,
      "outputs": [
        {
          "output_type": "stream",
          "text": [
            "{'_id': ObjectId('60cd8509b92a1f0bdc7b680f'), 'name': 'Tonalulu', 'population': 100, 'currency': 'dollar'}\n"
          ],
          "name": "stdout"
        }
      ]
    },
    {
      "cell_type": "code",
      "metadata": {
        "colab": {
          "base_uri": "https://localhost:8080/"
        },
        "id": "2AmJ9YAf2Xsw",
        "outputId": "b327d9ed-85d3-4412-a574-5cd1ad1637e1"
      },
      "source": [
        "# you can find and update as well\n",
        "searchfor = { \"name\": \"Pikaland\" }\n",
        "updatefor = { \"$set\": { \"population\": 500, \"drama\": True } }\n",
        "\n",
        "myplanet.update_one(searchfor, updatefor)\n",
        "\n",
        "for place in myplanet.find():\n",
        "  print(place)"
      ],
      "execution_count": null,
      "outputs": [
        {
          "output_type": "stream",
          "text": [
            "{'_id': ObjectId('60cd8504b92a1f0bdc7b680d'), 'name': 'Honolulu', 'population': 'unknown'}\n",
            "{'_id': ObjectId('60cd8505b92a1f0bdc7b680e'), 'name': 'Pikaland', 'capital': 'Townsville', 'potatoLover': True, 'population': 500, 'drama': True}\n",
            "{'_id': ObjectId('60cd8509b92a1f0bdc7b680f'), 'name': 'Tonalulu', 'population': 100, 'currency': 'dollar'}\n",
            "{'_id': ObjectId('60cd8509b92a1f0bdc7b6810'), 'name': 'Gagacity', 'area': 1000, 'potatoLover': True}\n"
          ],
          "name": "stdout"
        }
      ]
    },
    {
      "cell_type": "code",
      "metadata": {
        "colab": {
          "base_uri": "https://localhost:8080/"
        },
        "id": "xscx1m9S5CGv",
        "outputId": "92747a9f-8aad-4779-f457-be6d26c2b610"
      },
      "source": [
        "# you could find and update many too\n",
        "# this reg ex to update wherever name starts with H,P,T or G\n",
        "searchfor = { \"name\": { \"$regex\": \"^[HPTG]\" } }\n",
        "updatefor = { \"$set\": { \"lovesKetchup\": False } }\n",
        "\n",
        "x = myplanet.update_many(searchfor, updatefor)\n",
        "\n",
        "print(x.modified_count, \"documents updated.\")\n",
        "\n",
        "for place in myplanet.find():\n",
        "  print(place)"
      ],
      "execution_count": null,
      "outputs": [
        {
          "output_type": "stream",
          "text": [
            "4 documents updated.\n",
            "{'_id': ObjectId('60cd8504b92a1f0bdc7b680d'), 'name': 'Honolulu', 'population': 'unknown', 'lovesKetchup': False}\n",
            "{'_id': ObjectId('60cd8505b92a1f0bdc7b680e'), 'name': 'Pikaland', 'capital': 'Townsville', 'potatoLover': True, 'population': 500, 'drama': True, 'lovesKetchup': False}\n",
            "{'_id': ObjectId('60cd8509b92a1f0bdc7b680f'), 'name': 'Tonalulu', 'population': 100, 'currency': 'dollar', 'lovesKetchup': False}\n",
            "{'_id': ObjectId('60cd8509b92a1f0bdc7b6810'), 'name': 'Gagacity', 'area': 1000, 'potatoLover': True, 'lovesKetchup': False}\n"
          ],
          "name": "stdout"
        }
      ]
    },
    {
      "cell_type": "code",
      "metadata": {
        "colab": {
          "base_uri": "https://localhost:8080/"
        },
        "id": "tvxfUwkF5wOd",
        "outputId": "a194e8dd-24d7-4863-cea8-03544499c202"
      },
      "source": [
        "# limit can be used to show only limited records\n",
        "for place in myplanet.find().limit(2):\n",
        "  print(place)"
      ],
      "execution_count": null,
      "outputs": [
        {
          "output_type": "stream",
          "text": [
            "{'_id': ObjectId('60cd8504b92a1f0bdc7b680d'), 'name': 'Honolulu', 'population': 'unknown', 'lovesKetchup': False}\n",
            "{'_id': ObjectId('60cd8505b92a1f0bdc7b680e'), 'name': 'Pikaland', 'capital': 'Townsville', 'potatoLover': True, 'population': 500, 'drama': True, 'lovesKetchup': False}\n"
          ],
          "name": "stdout"
        }
      ]
    },
    {
      "cell_type": "code",
      "metadata": {
        "colab": {
          "base_uri": "https://localhost:8080/"
        },
        "id": "NXdsBmou6us0",
        "outputId": "ea1b9a45-0595-4ea1-d538-62b51ad515ad"
      },
      "source": [
        "# we could also right a random function to generate data and then update records\n",
        "import random\n",
        "def sendRandomNumber():\n",
        "  return int(random.random() * 1000 )\n",
        "\n",
        "\n",
        "all_ids = []\n",
        "# this will give us all object IDs and names in the table, where name is greater than equal to P\n",
        "for x in myplanet.find({ \"name\": { \"$gte\": \"P\" } },{ \"_id\": 1, \"name\": 1}):\n",
        "  all_ids.append(x)\n",
        "print(all_ids)\n"
      ],
      "execution_count": null,
      "outputs": [
        {
          "output_type": "stream",
          "text": [
            "[{'_id': ObjectId('60cd8505b92a1f0bdc7b680e'), 'name': 'Pikaland'}, {'_id': ObjectId('60cd8509b92a1f0bdc7b680f'), 'name': 'Tonalulu'}]\n"
          ],
          "name": "stdout"
        }
      ]
    },
    {
      "cell_type": "code",
      "metadata": {
        "colab": {
          "base_uri": "https://localhost:8080/"
        },
        "id": "01LfHtZs8o3Z",
        "outputId": "4130030a-e8ed-4e8c-aaa2-eb85358c6ff4"
      },
      "source": [
        "# now i can create a loop to update population with random numbers only on these 2 IDs\n",
        "for record in all_ids:\n",
        "  searchfor = { \"name\": record[\"name\"] }\n",
        "  updatefor = { \"$set\": { \"population\": sendRandomNumber() } }\n",
        "  print(searchfor)\n",
        "  res = myplanet.update_one(searchfor, updatefor)\n",
        "  print(res)"
      ],
      "execution_count": null,
      "outputs": [
        {
          "output_type": "stream",
          "text": [
            "{'name': 'Pikaland'}\n",
            "<pymongo.results.UpdateResult object at 0x7f3bb475caf0>\n",
            "{'name': 'Tonalulu'}\n",
            "<pymongo.results.UpdateResult object at 0x7f3bb475cb90>\n"
          ],
          "name": "stdout"
        }
      ]
    },
    {
      "cell_type": "code",
      "metadata": {
        "colab": {
          "base_uri": "https://localhost:8080/"
        },
        "id": "th5LMoeL9qNV",
        "outputId": "1c868dcd-0b88-4010-bdd0-ed868bb278d5"
      },
      "source": [
        "for item in myplanet.find():\n",
        "  print(item)"
      ],
      "execution_count": null,
      "outputs": [
        {
          "output_type": "stream",
          "text": [
            "{'_id': ObjectId('60cd8504b92a1f0bdc7b680d'), 'name': 'Honolulu', 'population': 'unknown', 'lovesKetchup': False}\n",
            "{'_id': ObjectId('60cd8505b92a1f0bdc7b680e'), 'name': 'Pikaland', 'capital': 'Townsville', 'potatoLover': True, 'population': 818, 'drama': True, 'lovesKetchup': False}\n",
            "{'_id': ObjectId('60cd8509b92a1f0bdc7b680f'), 'name': 'Tonalulu', 'population': 999, 'currency': 'dollar', 'lovesKetchup': False}\n",
            "{'_id': ObjectId('60cd8509b92a1f0bdc7b6810'), 'name': 'Gagacity', 'area': 1000, 'potatoLover': True, 'lovesKetchup': False}\n"
          ],
          "name": "stdout"
        }
      ]
    },
    {
      "cell_type": "code",
      "metadata": {
        "colab": {
          "base_uri": "https://localhost:8080/"
        },
        "id": "ROK7YPtSwF0h",
        "outputId": "9e04af28-453b-4dab-a032-14e7ecdfa056"
      },
      "source": [],
      "execution_count": null,
      "outputs": [
        {
          "output_type": "stream",
          "text": [
            "/usr/local/lib/python3.7/dist-packages/ipykernel_launcher.py:3: DeprecationWarning: count is deprecated. Use Collection.count_documents instead.\n",
            "  This is separate from the ipykernel package so we can avoid doing imports until\n"
          ],
          "name": "stderr"
        },
        {
          "output_type": "execute_result",
          "data": {
            "text/plain": [
              "4"
            ]
          },
          "metadata": {
            "tags": []
          },
          "execution_count": 101
        }
      ]
    },
    {
      "cell_type": "code",
      "metadata": {
        "id": "pcWw7EXQ0tbY"
      },
      "source": [
        "# ok. Let's look at our data. Let's say we wanted to do some analysis on population\n",
        "# but our problem is that not all records even have population\n",
        "for x in mydata:\n",
        "  print(x)"
      ],
      "execution_count": null,
      "outputs": []
    },
    {
      "cell_type": "code",
      "metadata": {
        "colab": {
          "base_uri": "https://localhost:8080/"
        },
        "id": "o4LFVKpK11mq",
        "outputId": "0383d31d-a475-4e41-9ed3-4b78c4805521"
      },
      "source": [
        "\n",
        "\n",
        "# let's delete all records where population is unknown\n",
        "dirty_ids = myplanet.find({'population': { \"$not\": { \"$gt\": 0 } }}, {\"_id\":1})\n",
        "# because population is a NON NEGATIVE NATURAL number! you cannot have a city with 3.14 or -32 population\n",
        "# and then we selected _id of all such records which are not positive numbers\n",
        "dirty_ids.count()"
      ],
      "execution_count": null,
      "outputs": [
        {
          "output_type": "stream",
          "text": [
            "/usr/local/lib/python3.7/dist-packages/ipykernel_launcher.py:7: DeprecationWarning: count is deprecated. Use Collection.count_documents instead.\n",
            "  import sys\n"
          ],
          "name": "stderr"
        },
        {
          "output_type": "execute_result",
          "data": {
            "text/plain": [
              "2"
            ]
          },
          "metadata": {
            "tags": []
          },
          "execution_count": 133
        }
      ]
    },
    {
      "cell_type": "code",
      "metadata": {
        "colab": {
          "base_uri": "https://localhost:8080/"
        },
        "id": "xkPRqarMAXNi",
        "outputId": "ef457f77-58ac-4aaa-9aec-82daadd3870e"
      },
      "source": [
        "\n",
        "for dirtyid in dirty_ids:\n",
        "  print(dirtyid)\n"
      ],
      "execution_count": null,
      "outputs": [
        {
          "output_type": "stream",
          "text": [
            "{'_id': ObjectId('60cd8504b92a1f0bdc7b680d')}\n",
            "{'_id': ObjectId('60cd8509b92a1f0bdc7b6810')}\n"
          ],
          "name": "stdout"
        }
      ]
    },
    {
      "cell_type": "code",
      "metadata": {
        "id": "qHpQZfj-Amtx"
      },
      "source": [
        "to_del = {'population': { \"$not\": { \"$gt\": 0 } }}\n",
        "result = myplanet.delete_many( to_del )"
      ],
      "execution_count": null,
      "outputs": []
    },
    {
      "cell_type": "code",
      "metadata": {
        "colab": {
          "base_uri": "https://localhost:8080/"
        },
        "id": "DUyVzkbaBqiL",
        "outputId": "4a5b7ce9-eeff-4177-edb5-955cb41d3b4c"
      },
      "source": [
        "for x in myplanet.find():\n",
        "  print(x)"
      ],
      "execution_count": null,
      "outputs": [
        {
          "output_type": "stream",
          "text": [
            "{'_id': ObjectId('60cd8505b92a1f0bdc7b680e'), 'name': 'Pikaland', 'capital': 'Townsville', 'potatoLover': True, 'population': 818, 'drama': True, 'lovesKetchup': False}\n",
            "{'_id': ObjectId('60cd8509b92a1f0bdc7b680f'), 'name': 'Tonalulu', 'population': 999, 'currency': 'dollar', 'lovesKetchup': False}\n"
          ],
          "name": "stdout"
        }
      ]
    },
    {
      "cell_type": "code",
      "metadata": {
        "id": "LIFhdg2OJnVC"
      },
      "source": [
        "# you can also sort the data\n",
        "mydata = myplanet.find().sort('_id')\n",
        "mydata.count()"
      ],
      "execution_count": null,
      "outputs": []
    }
  ]
}