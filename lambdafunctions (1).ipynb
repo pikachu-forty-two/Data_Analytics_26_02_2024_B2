{
  "nbformat": 4,
  "nbformat_minor": 0,
  "metadata": {
    "colab": {
      "provenance": []
    },
    "kernelspec": {
      "name": "python3",
      "display_name": "Python 3"
    },
    "language_info": {
      "name": "python"
    }
  },
  "cells": [
    {
      "cell_type": "markdown",
      "source": [
        "Write a Python program to create a lambda function that adds 15 to a given number passed in as an argument, also create a lambda function that multiplies argument x with argument y and print the result."
      ],
      "metadata": {
        "id": "b_ZgJYZrkaF9"
      }
    },
    {
      "cell_type": "code",
      "source": [
        "res = lambda a : a + 15\n",
        "print(res(10))"
      ],
      "metadata": {
        "id": "YNJbab33kkhP"
      },
      "execution_count": null,
      "outputs": []
    },
    {
      "cell_type": "code",
      "source": [
        "res = lambda x , y : x * y\n",
        "print(res(5,3))\n"
      ],
      "metadata": {
        "id": "6Asvr_dlk8KG"
      },
      "execution_count": null,
      "outputs": []
    },
    {
      "cell_type": "markdown",
      "source": [
        " Write a Python program to extract PRESENT year, month, date and time using Lambda."
      ],
      "metadata": {
        "id": "yVJFBmJ-lTPA"
      }
    },
    {
      "cell_type": "code",
      "source": [
        "import datetime\n",
        "now = datetime.datetime.now()\n",
        "print(now)"
      ],
      "metadata": {
        "id": "I6dpq5yHlUIG"
      },
      "execution_count": null,
      "outputs": []
    },
    {
      "cell_type": "markdown",
      "source": [
        "3.Write a Python program that sum the length of the names of a given list of names after removing the names that starts with a lowercase letter. Use lambda function"
      ],
      "metadata": {
        "id": "mLJZjwACnAx9"
      }
    },
    {
      "cell_type": "code",
      "source": [
        "people = ['Alex' , 'bob' , 'Jeff']\n",
        "people = list(filter(lambda e:e[0].isupper() and e[1:].islower(),people))\n",
        "print(len(' '.join(people)))"
      ],
      "metadata": {
        "id": "j4Gp2r3PnBrO"
      },
      "execution_count": null,
      "outputs": []
    },
    {
      "cell_type": "markdown",
      "source": [
        "Write a Python program to extract specified size of strings from a give list of string values using lambda"
      ],
      "metadata": {
        "id": "QHaP6auTrKZu"
      }
    },
    {
      "cell_type": "code",
      "source": [
        "s = ['Alex' , 'bob' , 'Jeff']\n",
        "l = 4\n",
        "res = list(filter(lambda e: len(e) == l, s))\n",
        "\n",
        "print(res)\n",
        "\n"
      ],
      "metadata": {
        "id": "-cfdZuWwrLG2"
      },
      "execution_count": null,
      "outputs": []
    },
    {
      "cell_type": "markdown",
      "source": [
        "5. Write a Python program to find the elements of a given list of strings that contain specific substring using lambda.\n",
        "\n",
        "\n",
        "Original list:\n",
        "['red', 'black', 'white', 'green', 'orange']\n",
        "Substring to search:\n",
        "ack\n",
        "Elements of the said list that contain specific substring:\n",
        "['black']\n",
        "Substring to search:\n",
        "abc\n",
        "Elements of the said list that contain specific substring:\n",
        "[]"
      ],
      "metadata": {
        "id": "mSFJfixduagu"
      }
    },
    {
      "cell_type": "code",
      "source": [
        "Original_list = [\"red\", \"black\", \"white\", \"green\", \"orange\"]\n",
        "sub_str = \"ack\"\n",
        "sub_str1 = \"abc\"\n",
        "\n",
        "res = list(filter(lambda e: sub_str in e ,Original_list))\n",
        "res1 = list(filter(lambda e: sub_str1 in e ,Original_list))\n",
        "print(res)\n",
        "print(res1)"
      ],
      "metadata": {
        "id": "nH8Qk0_Yug8w"
      },
      "execution_count": null,
      "outputs": []
    }
  ]
}